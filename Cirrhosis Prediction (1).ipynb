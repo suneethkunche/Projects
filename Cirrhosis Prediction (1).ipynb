{
 "cells": [
  {
   "cell_type": "code",
   "execution_count": 1,
   "id": "42315175",
   "metadata": {},
   "outputs": [
    {
     "name": "stdout",
     "output_type": "stream",
     "text": [
      "Requirement already satisfied: lifelines in c:\\users\\asus\\anaconda3\\lib\\site-packages (0.28.0)\n",
      "Requirement already satisfied: numpy<2.0,>=1.14.0 in c:\\users\\asus\\anaconda3\\lib\\site-packages (from lifelines) (1.22.0)\n",
      "Requirement already satisfied: autograd-gamma>=0.3 in c:\\users\\asus\\anaconda3\\lib\\site-packages (from lifelines) (0.5.0)\n",
      "Requirement already satisfied: scipy>=1.2.0 in c:\\users\\asus\\anaconda3\\lib\\site-packages (from lifelines) (1.7.3)\n",
      "Requirement already satisfied: formulaic>=0.2.2 in c:\\users\\asus\\anaconda3\\lib\\site-packages (from lifelines) (1.0.1)\n",
      "Requirement already satisfied: matplotlib>=3.0 in c:\\users\\asus\\anaconda3\\lib\\site-packages (from lifelines) (3.5.1)\n",
      "Requirement already satisfied: pandas>=1.2.0 in c:\\users\\asus\\anaconda3\\lib\\site-packages (from lifelines) (1.4.2)\n",
      "Requirement already satisfied: autograd>=1.5 in c:\\users\\asus\\anaconda3\\lib\\site-packages (from lifelines) (1.6.2)\n",
      "Requirement already satisfied: future>=0.15.2 in c:\\users\\asus\\anaconda3\\lib\\site-packages (from autograd>=1.5->lifelines) (0.18.2)\n",
      "Requirement already satisfied: wrapt>=1.0 in c:\\users\\asus\\anaconda3\\lib\\site-packages (from formulaic>=0.2.2->lifelines) (1.12.1)\n",
      "Requirement already satisfied: interface-meta>=1.2.0 in c:\\users\\asus\\anaconda3\\lib\\site-packages (from formulaic>=0.2.2->lifelines) (1.3.0)\n",
      "Requirement already satisfied: typing-extensions>=4.2.0 in c:\\users\\asus\\anaconda3\\lib\\site-packages (from formulaic>=0.2.2->lifelines) (4.11.0)\n",
      "Requirement already satisfied: fonttools>=4.22.0 in c:\\users\\asus\\anaconda3\\lib\\site-packages (from matplotlib>=3.0->lifelines) (4.25.0)\n",
      "Requirement already satisfied: pillow>=6.2.0 in c:\\users\\asus\\anaconda3\\lib\\site-packages (from matplotlib>=3.0->lifelines) (9.0.1)\n",
      "Requirement already satisfied: packaging>=20.0 in c:\\users\\asus\\anaconda3\\lib\\site-packages (from matplotlib>=3.0->lifelines) (21.3)\n",
      "Requirement already satisfied: kiwisolver>=1.0.1 in c:\\users\\asus\\anaconda3\\lib\\site-packages (from matplotlib>=3.0->lifelines) (1.3.2)\n",
      "Requirement already satisfied: pyparsing>=2.2.1 in c:\\users\\asus\\anaconda3\\lib\\site-packages (from matplotlib>=3.0->lifelines) (3.0.4)\n",
      "Requirement already satisfied: python-dateutil>=2.7 in c:\\users\\asus\\anaconda3\\lib\\site-packages (from matplotlib>=3.0->lifelines) (2.8.2)\n",
      "Requirement already satisfied: cycler>=0.10 in c:\\users\\asus\\anaconda3\\lib\\site-packages (from matplotlib>=3.0->lifelines) (0.11.0)\n",
      "Requirement already satisfied: pytz>=2020.1 in c:\\users\\asus\\anaconda3\\lib\\site-packages (from pandas>=1.2.0->lifelines) (2021.3)\n",
      "Requirement already satisfied: six>=1.5 in c:\\users\\asus\\anaconda3\\lib\\site-packages (from python-dateutil>=2.7->matplotlib>=3.0->lifelines) (1.16.0)\n"
     ]
    }
   ],
   "source": [
    "!pip install lifelines"
   ]
  },
  {
   "cell_type": "code",
   "execution_count": 2,
   "id": "6c879205",
   "metadata": {},
   "outputs": [],
   "source": [
    "import pandas as pd\n",
    "import matplotlib.pyplot as plt\n",
    "import numpy as np\n",
    "from lifelines import KaplanMeierFitter\n",
    "from lifelines import CoxPHFitter\n",
    "from sklearn.preprocessing import OrdinalEncoder"
   ]
  },
  {
   "cell_type": "code",
   "execution_count": 3,
   "id": "45f28f09",
   "metadata": {},
   "outputs": [],
   "source": [
    "df = pd.read_csv(\"C:/Users/Asus/OneDrive/Desktop/dataset/cirrhosis.csv\")"
   ]
  },
  {
   "cell_type": "code",
   "execution_count": 4,
   "id": "dd3cfe84",
   "metadata": {},
   "outputs": [
    {
     "data": {
      "text/html": [
       "<div>\n",
       "<style scoped>\n",
       "    .dataframe tbody tr th:only-of-type {\n",
       "        vertical-align: middle;\n",
       "    }\n",
       "\n",
       "    .dataframe tbody tr th {\n",
       "        vertical-align: top;\n",
       "    }\n",
       "\n",
       "    .dataframe thead th {\n",
       "        text-align: right;\n",
       "    }\n",
       "</style>\n",
       "<table border=\"1\" class=\"dataframe\">\n",
       "  <thead>\n",
       "    <tr style=\"text-align: right;\">\n",
       "      <th></th>\n",
       "      <th>ID</th>\n",
       "      <th>N_Days</th>\n",
       "      <th>Status</th>\n",
       "      <th>Drug</th>\n",
       "      <th>Age</th>\n",
       "      <th>Sex</th>\n",
       "      <th>Ascites</th>\n",
       "      <th>Hepatomegaly</th>\n",
       "      <th>Spiders</th>\n",
       "      <th>Edema</th>\n",
       "      <th>Bilirubin</th>\n",
       "      <th>Cholesterol</th>\n",
       "      <th>Albumin</th>\n",
       "      <th>Copper</th>\n",
       "      <th>Alk_Phos</th>\n",
       "      <th>SGOT</th>\n",
       "      <th>Tryglicerides</th>\n",
       "      <th>Platelets</th>\n",
       "      <th>Prothrombin</th>\n",
       "      <th>Stage</th>\n",
       "    </tr>\n",
       "  </thead>\n",
       "  <tbody>\n",
       "    <tr>\n",
       "      <th>0</th>\n",
       "      <td>1</td>\n",
       "      <td>400</td>\n",
       "      <td>D</td>\n",
       "      <td>D-penicillamine</td>\n",
       "      <td>21464</td>\n",
       "      <td>F</td>\n",
       "      <td>Y</td>\n",
       "      <td>Y</td>\n",
       "      <td>Y</td>\n",
       "      <td>Y</td>\n",
       "      <td>14.5</td>\n",
       "      <td>261.0</td>\n",
       "      <td>2.60</td>\n",
       "      <td>156.0</td>\n",
       "      <td>1718.0</td>\n",
       "      <td>137.95</td>\n",
       "      <td>172.0</td>\n",
       "      <td>190.0</td>\n",
       "      <td>12.2</td>\n",
       "      <td>4.0</td>\n",
       "    </tr>\n",
       "    <tr>\n",
       "      <th>1</th>\n",
       "      <td>2</td>\n",
       "      <td>4500</td>\n",
       "      <td>C</td>\n",
       "      <td>D-penicillamine</td>\n",
       "      <td>20617</td>\n",
       "      <td>F</td>\n",
       "      <td>N</td>\n",
       "      <td>Y</td>\n",
       "      <td>Y</td>\n",
       "      <td>N</td>\n",
       "      <td>1.1</td>\n",
       "      <td>302.0</td>\n",
       "      <td>4.14</td>\n",
       "      <td>54.0</td>\n",
       "      <td>7394.8</td>\n",
       "      <td>113.52</td>\n",
       "      <td>88.0</td>\n",
       "      <td>221.0</td>\n",
       "      <td>10.6</td>\n",
       "      <td>3.0</td>\n",
       "    </tr>\n",
       "    <tr>\n",
       "      <th>2</th>\n",
       "      <td>3</td>\n",
       "      <td>1012</td>\n",
       "      <td>D</td>\n",
       "      <td>D-penicillamine</td>\n",
       "      <td>25594</td>\n",
       "      <td>M</td>\n",
       "      <td>N</td>\n",
       "      <td>N</td>\n",
       "      <td>N</td>\n",
       "      <td>S</td>\n",
       "      <td>1.4</td>\n",
       "      <td>176.0</td>\n",
       "      <td>3.48</td>\n",
       "      <td>210.0</td>\n",
       "      <td>516.0</td>\n",
       "      <td>96.10</td>\n",
       "      <td>55.0</td>\n",
       "      <td>151.0</td>\n",
       "      <td>12.0</td>\n",
       "      <td>4.0</td>\n",
       "    </tr>\n",
       "    <tr>\n",
       "      <th>3</th>\n",
       "      <td>4</td>\n",
       "      <td>1925</td>\n",
       "      <td>D</td>\n",
       "      <td>D-penicillamine</td>\n",
       "      <td>19994</td>\n",
       "      <td>F</td>\n",
       "      <td>N</td>\n",
       "      <td>Y</td>\n",
       "      <td>Y</td>\n",
       "      <td>S</td>\n",
       "      <td>1.8</td>\n",
       "      <td>244.0</td>\n",
       "      <td>2.54</td>\n",
       "      <td>64.0</td>\n",
       "      <td>6121.8</td>\n",
       "      <td>60.63</td>\n",
       "      <td>92.0</td>\n",
       "      <td>183.0</td>\n",
       "      <td>10.3</td>\n",
       "      <td>4.0</td>\n",
       "    </tr>\n",
       "    <tr>\n",
       "      <th>4</th>\n",
       "      <td>5</td>\n",
       "      <td>1504</td>\n",
       "      <td>CL</td>\n",
       "      <td>Placebo</td>\n",
       "      <td>13918</td>\n",
       "      <td>F</td>\n",
       "      <td>N</td>\n",
       "      <td>Y</td>\n",
       "      <td>Y</td>\n",
       "      <td>N</td>\n",
       "      <td>3.4</td>\n",
       "      <td>279.0</td>\n",
       "      <td>3.53</td>\n",
       "      <td>143.0</td>\n",
       "      <td>671.0</td>\n",
       "      <td>113.15</td>\n",
       "      <td>72.0</td>\n",
       "      <td>136.0</td>\n",
       "      <td>10.9</td>\n",
       "      <td>3.0</td>\n",
       "    </tr>\n",
       "  </tbody>\n",
       "</table>\n",
       "</div>"
      ],
      "text/plain": [
       "   ID  N_Days Status             Drug    Age Sex Ascites Hepatomegaly Spiders  \\\n",
       "0   1     400      D  D-penicillamine  21464   F       Y            Y       Y   \n",
       "1   2    4500      C  D-penicillamine  20617   F       N            Y       Y   \n",
       "2   3    1012      D  D-penicillamine  25594   M       N            N       N   \n",
       "3   4    1925      D  D-penicillamine  19994   F       N            Y       Y   \n",
       "4   5    1504     CL          Placebo  13918   F       N            Y       Y   \n",
       "\n",
       "  Edema  Bilirubin  Cholesterol  Albumin  Copper  Alk_Phos    SGOT  \\\n",
       "0     Y       14.5        261.0     2.60   156.0    1718.0  137.95   \n",
       "1     N        1.1        302.0     4.14    54.0    7394.8  113.52   \n",
       "2     S        1.4        176.0     3.48   210.0     516.0   96.10   \n",
       "3     S        1.8        244.0     2.54    64.0    6121.8   60.63   \n",
       "4     N        3.4        279.0     3.53   143.0     671.0  113.15   \n",
       "\n",
       "   Tryglicerides  Platelets  Prothrombin  Stage  \n",
       "0          172.0      190.0         12.2    4.0  \n",
       "1           88.0      221.0         10.6    3.0  \n",
       "2           55.0      151.0         12.0    4.0  \n",
       "3           92.0      183.0         10.3    4.0  \n",
       "4           72.0      136.0         10.9    3.0  "
      ]
     },
     "execution_count": 4,
     "metadata": {},
     "output_type": "execute_result"
    }
   ],
   "source": [
    "df.head()"
   ]
  },
  {
   "cell_type": "code",
   "execution_count": 5,
   "id": "7a3961d0",
   "metadata": {},
   "outputs": [
    {
     "data": {
      "text/html": [
       "<div>\n",
       "<style scoped>\n",
       "    .dataframe tbody tr th:only-of-type {\n",
       "        vertical-align: middle;\n",
       "    }\n",
       "\n",
       "    .dataframe tbody tr th {\n",
       "        vertical-align: top;\n",
       "    }\n",
       "\n",
       "    .dataframe thead th {\n",
       "        text-align: right;\n",
       "    }\n",
       "</style>\n",
       "<table border=\"1\" class=\"dataframe\">\n",
       "  <thead>\n",
       "    <tr style=\"text-align: right;\">\n",
       "      <th></th>\n",
       "      <th>ID</th>\n",
       "      <th>N_Days</th>\n",
       "      <th>Age</th>\n",
       "      <th>Bilirubin</th>\n",
       "      <th>Cholesterol</th>\n",
       "      <th>Albumin</th>\n",
       "      <th>Copper</th>\n",
       "      <th>Alk_Phos</th>\n",
       "      <th>SGOT</th>\n",
       "      <th>Tryglicerides</th>\n",
       "      <th>Platelets</th>\n",
       "      <th>Prothrombin</th>\n",
       "      <th>Stage</th>\n",
       "    </tr>\n",
       "  </thead>\n",
       "  <tbody>\n",
       "    <tr>\n",
       "      <th>count</th>\n",
       "      <td>418.000000</td>\n",
       "      <td>418.000000</td>\n",
       "      <td>418.000000</td>\n",
       "      <td>418.000000</td>\n",
       "      <td>284.000000</td>\n",
       "      <td>418.000000</td>\n",
       "      <td>310.000000</td>\n",
       "      <td>312.000000</td>\n",
       "      <td>312.000000</td>\n",
       "      <td>282.000000</td>\n",
       "      <td>407.000000</td>\n",
       "      <td>416.000000</td>\n",
       "      <td>412.000000</td>\n",
       "    </tr>\n",
       "    <tr>\n",
       "      <th>mean</th>\n",
       "      <td>209.500000</td>\n",
       "      <td>1917.782297</td>\n",
       "      <td>18533.351675</td>\n",
       "      <td>3.220813</td>\n",
       "      <td>369.510563</td>\n",
       "      <td>3.497440</td>\n",
       "      <td>97.648387</td>\n",
       "      <td>1982.655769</td>\n",
       "      <td>122.556346</td>\n",
       "      <td>124.702128</td>\n",
       "      <td>257.024570</td>\n",
       "      <td>10.731731</td>\n",
       "      <td>3.024272</td>\n",
       "    </tr>\n",
       "    <tr>\n",
       "      <th>std</th>\n",
       "      <td>120.810458</td>\n",
       "      <td>1104.672992</td>\n",
       "      <td>3815.845055</td>\n",
       "      <td>4.407506</td>\n",
       "      <td>231.944545</td>\n",
       "      <td>0.424972</td>\n",
       "      <td>85.613920</td>\n",
       "      <td>2140.388824</td>\n",
       "      <td>56.699525</td>\n",
       "      <td>65.148639</td>\n",
       "      <td>98.325585</td>\n",
       "      <td>1.022000</td>\n",
       "      <td>0.882042</td>\n",
       "    </tr>\n",
       "    <tr>\n",
       "      <th>min</th>\n",
       "      <td>1.000000</td>\n",
       "      <td>41.000000</td>\n",
       "      <td>9598.000000</td>\n",
       "      <td>0.300000</td>\n",
       "      <td>120.000000</td>\n",
       "      <td>1.960000</td>\n",
       "      <td>4.000000</td>\n",
       "      <td>289.000000</td>\n",
       "      <td>26.350000</td>\n",
       "      <td>33.000000</td>\n",
       "      <td>62.000000</td>\n",
       "      <td>9.000000</td>\n",
       "      <td>1.000000</td>\n",
       "    </tr>\n",
       "    <tr>\n",
       "      <th>25%</th>\n",
       "      <td>105.250000</td>\n",
       "      <td>1092.750000</td>\n",
       "      <td>15644.500000</td>\n",
       "      <td>0.800000</td>\n",
       "      <td>249.500000</td>\n",
       "      <td>3.242500</td>\n",
       "      <td>41.250000</td>\n",
       "      <td>871.500000</td>\n",
       "      <td>80.600000</td>\n",
       "      <td>84.250000</td>\n",
       "      <td>188.500000</td>\n",
       "      <td>10.000000</td>\n",
       "      <td>2.000000</td>\n",
       "    </tr>\n",
       "    <tr>\n",
       "      <th>50%</th>\n",
       "      <td>209.500000</td>\n",
       "      <td>1730.000000</td>\n",
       "      <td>18628.000000</td>\n",
       "      <td>1.400000</td>\n",
       "      <td>309.500000</td>\n",
       "      <td>3.530000</td>\n",
       "      <td>73.000000</td>\n",
       "      <td>1259.000000</td>\n",
       "      <td>114.700000</td>\n",
       "      <td>108.000000</td>\n",
       "      <td>251.000000</td>\n",
       "      <td>10.600000</td>\n",
       "      <td>3.000000</td>\n",
       "    </tr>\n",
       "    <tr>\n",
       "      <th>75%</th>\n",
       "      <td>313.750000</td>\n",
       "      <td>2613.500000</td>\n",
       "      <td>21272.500000</td>\n",
       "      <td>3.400000</td>\n",
       "      <td>400.000000</td>\n",
       "      <td>3.770000</td>\n",
       "      <td>123.000000</td>\n",
       "      <td>1980.000000</td>\n",
       "      <td>151.900000</td>\n",
       "      <td>151.000000</td>\n",
       "      <td>318.000000</td>\n",
       "      <td>11.100000</td>\n",
       "      <td>4.000000</td>\n",
       "    </tr>\n",
       "    <tr>\n",
       "      <th>max</th>\n",
       "      <td>418.000000</td>\n",
       "      <td>4795.000000</td>\n",
       "      <td>28650.000000</td>\n",
       "      <td>28.000000</td>\n",
       "      <td>1775.000000</td>\n",
       "      <td>4.640000</td>\n",
       "      <td>588.000000</td>\n",
       "      <td>13862.400000</td>\n",
       "      <td>457.250000</td>\n",
       "      <td>598.000000</td>\n",
       "      <td>721.000000</td>\n",
       "      <td>18.000000</td>\n",
       "      <td>4.000000</td>\n",
       "    </tr>\n",
       "  </tbody>\n",
       "</table>\n",
       "</div>"
      ],
      "text/plain": [
       "               ID       N_Days           Age   Bilirubin  Cholesterol  \\\n",
       "count  418.000000   418.000000    418.000000  418.000000   284.000000   \n",
       "mean   209.500000  1917.782297  18533.351675    3.220813   369.510563   \n",
       "std    120.810458  1104.672992   3815.845055    4.407506   231.944545   \n",
       "min      1.000000    41.000000   9598.000000    0.300000   120.000000   \n",
       "25%    105.250000  1092.750000  15644.500000    0.800000   249.500000   \n",
       "50%    209.500000  1730.000000  18628.000000    1.400000   309.500000   \n",
       "75%    313.750000  2613.500000  21272.500000    3.400000   400.000000   \n",
       "max    418.000000  4795.000000  28650.000000   28.000000  1775.000000   \n",
       "\n",
       "          Albumin      Copper      Alk_Phos        SGOT  Tryglicerides  \\\n",
       "count  418.000000  310.000000    312.000000  312.000000     282.000000   \n",
       "mean     3.497440   97.648387   1982.655769  122.556346     124.702128   \n",
       "std      0.424972   85.613920   2140.388824   56.699525      65.148639   \n",
       "min      1.960000    4.000000    289.000000   26.350000      33.000000   \n",
       "25%      3.242500   41.250000    871.500000   80.600000      84.250000   \n",
       "50%      3.530000   73.000000   1259.000000  114.700000     108.000000   \n",
       "75%      3.770000  123.000000   1980.000000  151.900000     151.000000   \n",
       "max      4.640000  588.000000  13862.400000  457.250000     598.000000   \n",
       "\n",
       "        Platelets  Prothrombin       Stage  \n",
       "count  407.000000   416.000000  412.000000  \n",
       "mean   257.024570    10.731731    3.024272  \n",
       "std     98.325585     1.022000    0.882042  \n",
       "min     62.000000     9.000000    1.000000  \n",
       "25%    188.500000    10.000000    2.000000  \n",
       "50%    251.000000    10.600000    3.000000  \n",
       "75%    318.000000    11.100000    4.000000  \n",
       "max    721.000000    18.000000    4.000000  "
      ]
     },
     "execution_count": 5,
     "metadata": {},
     "output_type": "execute_result"
    }
   ],
   "source": [
    "df.describe()"
   ]
  },
  {
   "cell_type": "code",
   "execution_count": 6,
   "id": "76ef1e5f",
   "metadata": {},
   "outputs": [
    {
     "data": {
      "text/plain": [
       "(418, 20)"
      ]
     },
     "execution_count": 6,
     "metadata": {},
     "output_type": "execute_result"
    }
   ],
   "source": [
    "df.shape"
   ]
  },
  {
   "cell_type": "markdown",
   "id": "dec26d78",
   "metadata": {},
   "source": [
    "Attribute Information \n",
    "1) ID: unique identifier\n",
    "2) N_Days: number of days between registration and the earlier of death, transplantation, or study analysis time in July 1986 \n",
    "3) Status: status of the patient C (censored), CL (censored due to liver tx), or D (death)\n",
    "4) Drug: type of drug D-penicillamine or placebo \n",
    "5) Age: age in [days]\n",
    "6) Sex: M (male) or F (female) \n",
    "7) Ascites: presence of ascites N (No) or Y (Yes)\n",
    "8) Hepatomegaly: presence of hepatomegaly N (No) or Y (Yes)\n",
    "9) Spiders: presence of spiders N (No) or Y (Yes) \n",
    "10) Edema: presence of edema N (no edema and no diuretic therapy for edema), S (edema present without diuretics, or edema resolved by diuretics), or Y (edema despite diuretic therapy)\n",
    "11) Bilirubin: serum bilirubin in [mg/dl] \n",
    "12) Cholesterol: serum cholesterol in [mg/dl]\n",
    "13) Albumin: albumin in [gm/dl]\n",
    "14) Copper: urine copper in [ug/day]\n",
    "15) Alk_Phos: alkaline phosphatase in [U/liter] \n",
    "16) SGOT: SGOT in [U/ml]\n",
    "17) Triglycerides: triglicerides in [mg/dl] \n",
    "18) Platelets: platelets per cubic [ml/1000] \n",
    "19) Prothrombin: prothrombin time in seconds [s] \n",
    "20) Stage: histologic stage of disease (1, 2, 3, or 4)"
   ]
  },
  {
   "cell_type": "code",
   "execution_count": 7,
   "id": "9e5f9fb3",
   "metadata": {},
   "outputs": [
    {
     "name": "stdout",
     "output_type": "stream",
     "text": [
      "<class 'pandas.core.frame.DataFrame'>\n",
      "RangeIndex: 418 entries, 0 to 417\n",
      "Data columns (total 20 columns):\n",
      " #   Column         Non-Null Count  Dtype  \n",
      "---  ------         --------------  -----  \n",
      " 0   ID             418 non-null    int64  \n",
      " 1   N_Days         418 non-null    int64  \n",
      " 2   Status         418 non-null    object \n",
      " 3   Drug           312 non-null    object \n",
      " 4   Age            418 non-null    int64  \n",
      " 5   Sex            418 non-null    object \n",
      " 6   Ascites        312 non-null    object \n",
      " 7   Hepatomegaly   312 non-null    object \n",
      " 8   Spiders        312 non-null    object \n",
      " 9   Edema          418 non-null    object \n",
      " 10  Bilirubin      418 non-null    float64\n",
      " 11  Cholesterol    284 non-null    float64\n",
      " 12  Albumin        418 non-null    float64\n",
      " 13  Copper         310 non-null    float64\n",
      " 14  Alk_Phos       312 non-null    float64\n",
      " 15  SGOT           312 non-null    float64\n",
      " 16  Tryglicerides  282 non-null    float64\n",
      " 17  Platelets      407 non-null    float64\n",
      " 18  Prothrombin    416 non-null    float64\n",
      " 19  Stage          412 non-null    float64\n",
      "dtypes: float64(10), int64(3), object(7)\n",
      "memory usage: 65.4+ KB\n"
     ]
    }
   ],
   "source": [
    "df.info()"
   ]
  },
  {
   "cell_type": "code",
   "execution_count": 8,
   "id": "2548a8e5",
   "metadata": {},
   "outputs": [
    {
     "data": {
      "text/plain": [
       "ID                 0\n",
       "N_Days             0\n",
       "Status             0\n",
       "Drug             106\n",
       "Age                0\n",
       "Sex                0\n",
       "Ascites          106\n",
       "Hepatomegaly     106\n",
       "Spiders          106\n",
       "Edema              0\n",
       "Bilirubin          0\n",
       "Cholesterol      134\n",
       "Albumin            0\n",
       "Copper           108\n",
       "Alk_Phos         106\n",
       "SGOT             106\n",
       "Tryglicerides    136\n",
       "Platelets         11\n",
       "Prothrombin        2\n",
       "Stage              6\n",
       "dtype: int64"
      ]
     },
     "execution_count": 8,
     "metadata": {},
     "output_type": "execute_result"
    }
   ],
   "source": [
    "df.isnull().sum()"
   ]
  },
  {
   "cell_type": "markdown",
   "id": "a9665739",
   "metadata": {},
   "source": [
    "Using OrdinalEncoder to convert object into int data type"
   ]
  },
  {
   "cell_type": "code",
   "execution_count": 9,
   "id": "db0ab442",
   "metadata": {},
   "outputs": [
    {
     "data": {
      "text/plain": [
       "['Status', 'Drug', 'Sex', 'Ascites', 'Hepatomegaly', 'Spiders', 'Edema']"
      ]
     },
     "execution_count": 9,
     "metadata": {},
     "output_type": "execute_result"
    }
   ],
   "source": [
    "X=df.dtypes=='object'\n",
    "object_columns=list(X[X].index)\n",
    "object_columns"
   ]
  },
  {
   "cell_type": "code",
   "execution_count": 10,
   "id": "78516658",
   "metadata": {},
   "outputs": [],
   "source": [
    "label_df=df.copy()\n",
    "ordinal_encoder=OrdinalEncoder()\n",
    "label_df[object_columns]=ordinal_encoder.fit_transform(df[object_columns])"
   ]
  },
  {
   "cell_type": "code",
   "execution_count": 11,
   "id": "faeb23b0",
   "metadata": {},
   "outputs": [
    {
     "name": "stdout",
     "output_type": "stream",
     "text": [
      "ID                 int64\n",
      "N_Days             int64\n",
      "Status           float64\n",
      "Drug             float64\n",
      "Age                int64\n",
      "Sex              float64\n",
      "Ascites          float64\n",
      "Hepatomegaly     float64\n",
      "Spiders          float64\n",
      "Edema            float64\n",
      "Bilirubin        float64\n",
      "Cholesterol      float64\n",
      "Albumin          float64\n",
      "Copper           float64\n",
      "Alk_Phos         float64\n",
      "SGOT             float64\n",
      "Tryglicerides    float64\n",
      "Platelets        float64\n",
      "Prothrombin      float64\n",
      "Stage            float64\n",
      "dtype: object\n"
     ]
    }
   ],
   "source": [
    "print(label_df.dtypes)"
   ]
  },
  {
   "cell_type": "code",
   "execution_count": 12,
   "id": "bf26b588",
   "metadata": {},
   "outputs": [
    {
     "data": {
      "text/html": [
       "<div>\n",
       "<style scoped>\n",
       "    .dataframe tbody tr th:only-of-type {\n",
       "        vertical-align: middle;\n",
       "    }\n",
       "\n",
       "    .dataframe tbody tr th {\n",
       "        vertical-align: top;\n",
       "    }\n",
       "\n",
       "    .dataframe thead th {\n",
       "        text-align: right;\n",
       "    }\n",
       "</style>\n",
       "<table border=\"1\" class=\"dataframe\">\n",
       "  <thead>\n",
       "    <tr style=\"text-align: right;\">\n",
       "      <th></th>\n",
       "      <th>ID</th>\n",
       "      <th>N_Days</th>\n",
       "      <th>Status</th>\n",
       "      <th>Drug</th>\n",
       "      <th>Age</th>\n",
       "      <th>Sex</th>\n",
       "      <th>Ascites</th>\n",
       "      <th>Hepatomegaly</th>\n",
       "      <th>Spiders</th>\n",
       "      <th>Edema</th>\n",
       "      <th>Bilirubin</th>\n",
       "      <th>Cholesterol</th>\n",
       "      <th>Albumin</th>\n",
       "      <th>Copper</th>\n",
       "      <th>Alk_Phos</th>\n",
       "      <th>SGOT</th>\n",
       "      <th>Tryglicerides</th>\n",
       "      <th>Platelets</th>\n",
       "      <th>Prothrombin</th>\n",
       "      <th>Stage</th>\n",
       "    </tr>\n",
       "  </thead>\n",
       "  <tbody>\n",
       "    <tr>\n",
       "      <th>413</th>\n",
       "      <td>414</td>\n",
       "      <td>681</td>\n",
       "      <td>2.0</td>\n",
       "      <td>NaN</td>\n",
       "      <td>24472</td>\n",
       "      <td>0.0</td>\n",
       "      <td>NaN</td>\n",
       "      <td>NaN</td>\n",
       "      <td>NaN</td>\n",
       "      <td>0.0</td>\n",
       "      <td>1.2</td>\n",
       "      <td>NaN</td>\n",
       "      <td>2.96</td>\n",
       "      <td>NaN</td>\n",
       "      <td>NaN</td>\n",
       "      <td>NaN</td>\n",
       "      <td>NaN</td>\n",
       "      <td>174.0</td>\n",
       "      <td>10.9</td>\n",
       "      <td>3.0</td>\n",
       "    </tr>\n",
       "    <tr>\n",
       "      <th>414</th>\n",
       "      <td>415</td>\n",
       "      <td>1103</td>\n",
       "      <td>0.0</td>\n",
       "      <td>NaN</td>\n",
       "      <td>14245</td>\n",
       "      <td>0.0</td>\n",
       "      <td>NaN</td>\n",
       "      <td>NaN</td>\n",
       "      <td>NaN</td>\n",
       "      <td>0.0</td>\n",
       "      <td>0.9</td>\n",
       "      <td>NaN</td>\n",
       "      <td>3.83</td>\n",
       "      <td>NaN</td>\n",
       "      <td>NaN</td>\n",
       "      <td>NaN</td>\n",
       "      <td>NaN</td>\n",
       "      <td>180.0</td>\n",
       "      <td>11.2</td>\n",
       "      <td>4.0</td>\n",
       "    </tr>\n",
       "    <tr>\n",
       "      <th>415</th>\n",
       "      <td>416</td>\n",
       "      <td>1055</td>\n",
       "      <td>0.0</td>\n",
       "      <td>NaN</td>\n",
       "      <td>20819</td>\n",
       "      <td>0.0</td>\n",
       "      <td>NaN</td>\n",
       "      <td>NaN</td>\n",
       "      <td>NaN</td>\n",
       "      <td>0.0</td>\n",
       "      <td>1.6</td>\n",
       "      <td>NaN</td>\n",
       "      <td>3.42</td>\n",
       "      <td>NaN</td>\n",
       "      <td>NaN</td>\n",
       "      <td>NaN</td>\n",
       "      <td>NaN</td>\n",
       "      <td>143.0</td>\n",
       "      <td>9.9</td>\n",
       "      <td>3.0</td>\n",
       "    </tr>\n",
       "    <tr>\n",
       "      <th>416</th>\n",
       "      <td>417</td>\n",
       "      <td>691</td>\n",
       "      <td>0.0</td>\n",
       "      <td>NaN</td>\n",
       "      <td>21185</td>\n",
       "      <td>0.0</td>\n",
       "      <td>NaN</td>\n",
       "      <td>NaN</td>\n",
       "      <td>NaN</td>\n",
       "      <td>0.0</td>\n",
       "      <td>0.8</td>\n",
       "      <td>NaN</td>\n",
       "      <td>3.75</td>\n",
       "      <td>NaN</td>\n",
       "      <td>NaN</td>\n",
       "      <td>NaN</td>\n",
       "      <td>NaN</td>\n",
       "      <td>269.0</td>\n",
       "      <td>10.4</td>\n",
       "      <td>3.0</td>\n",
       "    </tr>\n",
       "    <tr>\n",
       "      <th>417</th>\n",
       "      <td>418</td>\n",
       "      <td>976</td>\n",
       "      <td>0.0</td>\n",
       "      <td>NaN</td>\n",
       "      <td>19358</td>\n",
       "      <td>0.0</td>\n",
       "      <td>NaN</td>\n",
       "      <td>NaN</td>\n",
       "      <td>NaN</td>\n",
       "      <td>0.0</td>\n",
       "      <td>0.7</td>\n",
       "      <td>NaN</td>\n",
       "      <td>3.29</td>\n",
       "      <td>NaN</td>\n",
       "      <td>NaN</td>\n",
       "      <td>NaN</td>\n",
       "      <td>NaN</td>\n",
       "      <td>350.0</td>\n",
       "      <td>10.6</td>\n",
       "      <td>4.0</td>\n",
       "    </tr>\n",
       "  </tbody>\n",
       "</table>\n",
       "</div>"
      ],
      "text/plain": [
       "      ID  N_Days  Status  Drug    Age  Sex  Ascites  Hepatomegaly  Spiders  \\\n",
       "413  414     681     2.0   NaN  24472  0.0      NaN           NaN      NaN   \n",
       "414  415    1103     0.0   NaN  14245  0.0      NaN           NaN      NaN   \n",
       "415  416    1055     0.0   NaN  20819  0.0      NaN           NaN      NaN   \n",
       "416  417     691     0.0   NaN  21185  0.0      NaN           NaN      NaN   \n",
       "417  418     976     0.0   NaN  19358  0.0      NaN           NaN      NaN   \n",
       "\n",
       "     Edema  Bilirubin  Cholesterol  Albumin  Copper  Alk_Phos  SGOT  \\\n",
       "413    0.0        1.2          NaN     2.96     NaN       NaN   NaN   \n",
       "414    0.0        0.9          NaN     3.83     NaN       NaN   NaN   \n",
       "415    0.0        1.6          NaN     3.42     NaN       NaN   NaN   \n",
       "416    0.0        0.8          NaN     3.75     NaN       NaN   NaN   \n",
       "417    0.0        0.7          NaN     3.29     NaN       NaN   NaN   \n",
       "\n",
       "     Tryglicerides  Platelets  Prothrombin  Stage  \n",
       "413            NaN      174.0         10.9    3.0  \n",
       "414            NaN      180.0         11.2    4.0  \n",
       "415            NaN      143.0          9.9    3.0  \n",
       "416            NaN      269.0         10.4    3.0  \n",
       "417            NaN      350.0         10.6    4.0  "
      ]
     },
     "execution_count": 12,
     "metadata": {},
     "output_type": "execute_result"
    }
   ],
   "source": [
    "label_df.tail()"
   ]
  },
  {
   "cell_type": "markdown",
   "id": "f333321f",
   "metadata": {},
   "source": [
    "Data Cleaning for status column,  Status: status of the patient C (censored), CL (censored due to liver tx), or D (death). I am  converting C (censored) and  CL (censored due to liver tx) into single category"
   ]
  },
  {
   "cell_type": "code",
   "execution_count": 13,
   "id": "081ce4f8",
   "metadata": {},
   "outputs": [
    {
     "data": {
      "text/html": [
       "<div>\n",
       "<style scoped>\n",
       "    .dataframe tbody tr th:only-of-type {\n",
       "        vertical-align: middle;\n",
       "    }\n",
       "\n",
       "    .dataframe tbody tr th {\n",
       "        vertical-align: top;\n",
       "    }\n",
       "\n",
       "    .dataframe thead th {\n",
       "        text-align: right;\n",
       "    }\n",
       "</style>\n",
       "<table border=\"1\" class=\"dataframe\">\n",
       "  <thead>\n",
       "    <tr style=\"text-align: right;\">\n",
       "      <th></th>\n",
       "      <th>ID</th>\n",
       "      <th>N_Days</th>\n",
       "      <th>Status</th>\n",
       "      <th>Drug</th>\n",
       "      <th>Age</th>\n",
       "      <th>Sex</th>\n",
       "      <th>Ascites</th>\n",
       "      <th>Hepatomegaly</th>\n",
       "      <th>Spiders</th>\n",
       "      <th>Edema</th>\n",
       "      <th>Bilirubin</th>\n",
       "      <th>Cholesterol</th>\n",
       "      <th>Albumin</th>\n",
       "      <th>Copper</th>\n",
       "      <th>Alk_Phos</th>\n",
       "      <th>SGOT</th>\n",
       "      <th>Tryglicerides</th>\n",
       "      <th>Platelets</th>\n",
       "      <th>Prothrombin</th>\n",
       "      <th>Stage</th>\n",
       "    </tr>\n",
       "  </thead>\n",
       "  <tbody>\n",
       "    <tr>\n",
       "      <th>0</th>\n",
       "      <td>1</td>\n",
       "      <td>400</td>\n",
       "      <td>1</td>\n",
       "      <td>0.0</td>\n",
       "      <td>21464</td>\n",
       "      <td>0.0</td>\n",
       "      <td>1.0</td>\n",
       "      <td>1.0</td>\n",
       "      <td>1.0</td>\n",
       "      <td>2.0</td>\n",
       "      <td>14.5</td>\n",
       "      <td>261.0</td>\n",
       "      <td>2.60</td>\n",
       "      <td>156.0</td>\n",
       "      <td>1718.0</td>\n",
       "      <td>137.95</td>\n",
       "      <td>172.0</td>\n",
       "      <td>190.0</td>\n",
       "      <td>12.2</td>\n",
       "      <td>4.0</td>\n",
       "    </tr>\n",
       "    <tr>\n",
       "      <th>1</th>\n",
       "      <td>2</td>\n",
       "      <td>4500</td>\n",
       "      <td>0</td>\n",
       "      <td>0.0</td>\n",
       "      <td>20617</td>\n",
       "      <td>0.0</td>\n",
       "      <td>0.0</td>\n",
       "      <td>1.0</td>\n",
       "      <td>1.0</td>\n",
       "      <td>0.0</td>\n",
       "      <td>1.1</td>\n",
       "      <td>302.0</td>\n",
       "      <td>4.14</td>\n",
       "      <td>54.0</td>\n",
       "      <td>7394.8</td>\n",
       "      <td>113.52</td>\n",
       "      <td>88.0</td>\n",
       "      <td>221.0</td>\n",
       "      <td>10.6</td>\n",
       "      <td>3.0</td>\n",
       "    </tr>\n",
       "    <tr>\n",
       "      <th>2</th>\n",
       "      <td>3</td>\n",
       "      <td>1012</td>\n",
       "      <td>1</td>\n",
       "      <td>0.0</td>\n",
       "      <td>25594</td>\n",
       "      <td>1.0</td>\n",
       "      <td>0.0</td>\n",
       "      <td>0.0</td>\n",
       "      <td>0.0</td>\n",
       "      <td>1.0</td>\n",
       "      <td>1.4</td>\n",
       "      <td>176.0</td>\n",
       "      <td>3.48</td>\n",
       "      <td>210.0</td>\n",
       "      <td>516.0</td>\n",
       "      <td>96.10</td>\n",
       "      <td>55.0</td>\n",
       "      <td>151.0</td>\n",
       "      <td>12.0</td>\n",
       "      <td>4.0</td>\n",
       "    </tr>\n",
       "    <tr>\n",
       "      <th>3</th>\n",
       "      <td>4</td>\n",
       "      <td>1925</td>\n",
       "      <td>1</td>\n",
       "      <td>0.0</td>\n",
       "      <td>19994</td>\n",
       "      <td>0.0</td>\n",
       "      <td>0.0</td>\n",
       "      <td>1.0</td>\n",
       "      <td>1.0</td>\n",
       "      <td>1.0</td>\n",
       "      <td>1.8</td>\n",
       "      <td>244.0</td>\n",
       "      <td>2.54</td>\n",
       "      <td>64.0</td>\n",
       "      <td>6121.8</td>\n",
       "      <td>60.63</td>\n",
       "      <td>92.0</td>\n",
       "      <td>183.0</td>\n",
       "      <td>10.3</td>\n",
       "      <td>4.0</td>\n",
       "    </tr>\n",
       "    <tr>\n",
       "      <th>4</th>\n",
       "      <td>5</td>\n",
       "      <td>1504</td>\n",
       "      <td>0</td>\n",
       "      <td>1.0</td>\n",
       "      <td>13918</td>\n",
       "      <td>0.0</td>\n",
       "      <td>0.0</td>\n",
       "      <td>1.0</td>\n",
       "      <td>1.0</td>\n",
       "      <td>0.0</td>\n",
       "      <td>3.4</td>\n",
       "      <td>279.0</td>\n",
       "      <td>3.53</td>\n",
       "      <td>143.0</td>\n",
       "      <td>671.0</td>\n",
       "      <td>113.15</td>\n",
       "      <td>72.0</td>\n",
       "      <td>136.0</td>\n",
       "      <td>10.9</td>\n",
       "      <td>3.0</td>\n",
       "    </tr>\n",
       "  </tbody>\n",
       "</table>\n",
       "</div>"
      ],
      "text/plain": [
       "   ID  N_Days  Status  Drug    Age  Sex  Ascites  Hepatomegaly  Spiders  \\\n",
       "0   1     400       1   0.0  21464  0.0      1.0           1.0      1.0   \n",
       "1   2    4500       0   0.0  20617  0.0      0.0           1.0      1.0   \n",
       "2   3    1012       1   0.0  25594  1.0      0.0           0.0      0.0   \n",
       "3   4    1925       1   0.0  19994  0.0      0.0           1.0      1.0   \n",
       "4   5    1504       0   1.0  13918  0.0      0.0           1.0      1.0   \n",
       "\n",
       "   Edema  Bilirubin  Cholesterol  Albumin  Copper  Alk_Phos    SGOT  \\\n",
       "0    2.0       14.5        261.0     2.60   156.0    1718.0  137.95   \n",
       "1    0.0        1.1        302.0     4.14    54.0    7394.8  113.52   \n",
       "2    1.0        1.4        176.0     3.48   210.0     516.0   96.10   \n",
       "3    1.0        1.8        244.0     2.54    64.0    6121.8   60.63   \n",
       "4    0.0        3.4        279.0     3.53   143.0     671.0  113.15   \n",
       "\n",
       "   Tryglicerides  Platelets  Prothrombin  Stage  \n",
       "0          172.0      190.0         12.2    4.0  \n",
       "1           88.0      221.0         10.6    3.0  \n",
       "2           55.0      151.0         12.0    4.0  \n",
       "3           92.0      183.0         10.3    4.0  \n",
       "4           72.0      136.0         10.9    3.0  "
      ]
     },
     "execution_count": 13,
     "metadata": {},
     "output_type": "execute_result"
    }
   ],
   "source": [
    "data = label_df\n",
    "data[\"Status\"] = data[\"Status\"].map({0:0,1:0,2:1})\n",
    "data.head()"
   ]
  },
  {
   "cell_type": "markdown",
   "id": "43bdcfeb",
   "metadata": {},
   "source": [
    "# MICE:Multivariate Imputation by Chained Equations"
   ]
  },
  {
   "cell_type": "markdown",
   "id": "eb20ffae",
   "metadata": {},
   "source": [
    "Implementing MICE to deal with null values"
   ]
  },
  {
   "cell_type": "code",
   "execution_count": 14,
   "id": "8f365d07",
   "metadata": {},
   "outputs": [
    {
     "name": "stdout",
     "output_type": "stream",
     "text": [
      "Requirement already satisfied: miceforest in c:\\users\\asus\\anaconda3\\lib\\site-packages (5.7.0)\n",
      "Requirement already satisfied: dill in c:\\users\\asus\\anaconda3\\lib\\site-packages (from miceforest) (0.3.8)\n",
      "Requirement already satisfied: blosc in c:\\users\\asus\\anaconda3\\lib\\site-packages (from miceforest) (1.11.1)\n",
      "Requirement already satisfied: lightgbm>=3.3.1 in c:\\users\\asus\\anaconda3\\lib\\site-packages (from miceforest) (4.3.0)\n",
      "Requirement already satisfied: numpy in c:\\users\\asus\\anaconda3\\lib\\site-packages (from miceforest) (1.22.0)\n",
      "Requirement already satisfied: scipy in c:\\users\\asus\\anaconda3\\lib\\site-packages (from lightgbm>=3.3.1->miceforest) (1.7.3)\n"
     ]
    }
   ],
   "source": [
    "!pip install miceforest"
   ]
  },
  {
   "cell_type": "markdown",
   "id": "ffc1ecd8",
   "metadata": {},
   "source": [
    "Implementing MICE from miceforest creating 5 dataset and iteration for 3 times"
   ]
  },
  {
   "cell_type": "code",
   "execution_count": 15,
   "id": "c0fe0c3f",
   "metadata": {},
   "outputs": [],
   "source": [
    "import miceforest as mf\n",
    "data_m=mf.ImputationKernel(data,datasets=5,save_all_iterations=True,random_state=11)"
   ]
  },
  {
   "cell_type": "code",
   "execution_count": 16,
   "id": "1d5975ec",
   "metadata": {},
   "outputs": [],
   "source": [
    "data_m.mice(3)"
   ]
  },
  {
   "cell_type": "code",
   "execution_count": 17,
   "id": "dafdc7f0",
   "metadata": {},
   "outputs": [],
   "source": [
    "df_Cirrhosis=pd.concat([data_m.complete_data(i) for i in range(5)]).groupby(level=0).mean()"
   ]
  },
  {
   "cell_type": "code",
   "execution_count": 18,
   "id": "acabdbb9",
   "metadata": {},
   "outputs": [
    {
     "data": {
      "text/plain": [
       "ID               0\n",
       "N_Days           0\n",
       "Status           0\n",
       "Drug             0\n",
       "Age              0\n",
       "Sex              0\n",
       "Ascites          0\n",
       "Hepatomegaly     0\n",
       "Spiders          0\n",
       "Edema            0\n",
       "Bilirubin        0\n",
       "Cholesterol      0\n",
       "Albumin          0\n",
       "Copper           0\n",
       "Alk_Phos         0\n",
       "SGOT             0\n",
       "Tryglicerides    0\n",
       "Platelets        0\n",
       "Prothrombin      0\n",
       "Stage            0\n",
       "dtype: int64"
      ]
     },
     "execution_count": 18,
     "metadata": {},
     "output_type": "execute_result"
    }
   ],
   "source": [
    "df_Cirrhosis.isnull().sum()"
   ]
  },
  {
   "cell_type": "markdown",
   "id": "58154a43",
   "metadata": {},
   "source": [
    "# Fitting a Non-Parametric model-Kaplan Meier Curve"
   ]
  },
  {
   "cell_type": "code",
   "execution_count": 19,
   "id": "3e2801a8",
   "metadata": {},
   "outputs": [
    {
     "data": {
      "image/png": "[encoded data removed]",
      "text/plain": [
       "<Figure size 432x288 with 1 Axes>"
      ]
     },
     "metadata": {
      "needs_background": "light"
     },
     "output_type": "display_data"
    }
   ],
   "source": [
    "T = df_Cirrhosis[\"N_Days\"]\n",
    "E = df_Cirrhosis[\"Status\"]\n",
    "plt.hist(T,bins=50)\n",
    "plt.show()"
   ]
  },
  {
   "cell_type": "code",
   "execution_count": 20,
   "id": "d13f1c15",
   "metadata": {},
   "outputs": [
    {
     "data": {
      "text/plain": [
       "<AxesSubplot:xlabel='timeline'>"
      ]
     },
     "execution_count": 20,
     "metadata": {},
     "output_type": "execute_result"
    },
    {
     "data": {
      "image/png": "[encoded data removed]",
      "text/plain": [
       "<Figure size 432x288 with 1 Axes>"
      ]
     },
     "metadata": {
      "needs_background": "light"
     },
     "output_type": "display_data"
    }
   ],
   "source": [
    "KMF = KaplanMeierFitter()\n",
    "KMF.fit(durations=T, event_observed=E)\n",
    "KMF.plot_survival_function()"
   ]
  },
  {
   "cell_type": "code",
   "execution_count": 21,
   "id": "e67cf15d",
   "metadata": {},
   "outputs": [
    {
     "data": {
      "text/plain": [
       "<AxesSubplot:xlabel='timeline'>"
      ]
     },
     "execution_count": 21,
     "metadata": {},
     "output_type": "execute_result"
    },
    {
     "data": {
      "image/png": "[encoded data removed]",
      "text/plain": [
       "<Figure size 432x288 with 1 Axes>"
      ]
     },
     "metadata": {
      "needs_background": "light"
     },
     "output_type": "display_data"
    }
   ],
   "source": [
    "KMF.plot_cumulative_density()"
   ]
  },
  {
   "cell_type": "markdown",
   "id": "64ea3e8a",
   "metadata": {},
   "source": [
    "Analysis of 50 percentage survival rate"
   ]
  },
  {
   "cell_type": "code",
   "execution_count": 22,
   "id": "79fe857f",
   "metadata": {},
   "outputs": [
    {
     "name": "stdout",
     "output_type": "stream",
     "text": [
      "3395.0\n",
      "     KM_estimate_lower_0.95  KM_estimate_upper_0.95\n",
      "0.5                  3086.0                  3839.0\n"
     ]
    }
   ],
   "source": [
    "from lifelines.utils import median_survival_times\n",
    "\n",
    "median = KMF.median_survival_time_\n",
    "median_confidence_interval = median_survival_times(KMF.confidence_interval_)\n",
    "print(median)\n",
    "print(median_confidence_interval)"
   ]
  },
  {
   "cell_type": "code",
   "execution_count": 23,
   "id": "526d958a",
   "metadata": {},
   "outputs": [
    {
     "data": {
      "text/plain": [
       "Text(0.5, 1.0, 'Survival of different gender group')"
      ]
     },
     "execution_count": 23,
     "metadata": {},
     "output_type": "execute_result"
    },
    {
     "data": {
      "image/png": "[encoded data removed]",
      "text/plain": [
       "<Figure size 432x288 with 2 Axes>"
      ]
     },
     "metadata": {
      "needs_background": "light"
     },
     "output_type": "display_data"
    }
   ],
   "source": [
    "ax = plt.subplot(111)\n",
    "\n",
    "f = (df_Cirrhosis[\"Sex\"]==0)\n",
    "KMF.fit(durations=T[f], event_observed=E[f], label=\"Female\")\n",
    "KMF.plot_survival_function(ax=ax)\n",
    "\n",
    "KMF.fit(T[~f], event_observed=E[~f], label=\"Male\")\n",
    "KMF.plot_survival_function(ax=ax, at_risk_counts=True)\n",
    "\n",
    "plt.title(\"Survival of different gender group\")"
   ]
  },
  {
   "cell_type": "markdown",
   "id": "52a1236d",
   "metadata": {},
   "source": [
    "# Fitting Cox Proportional Hazard Model"
   ]
  },
  {
   "cell_type": "markdown",
   "id": "5ec0d732",
   "metadata": {},
   "source": [
    "Hazard and Hazard Ratio"
   ]
  },
  {
   "cell_type": "code",
   "execution_count": 24,
   "id": "ef4996f7",
   "metadata": {},
   "outputs": [
    {
     "data": {
      "text/plain": [
       "0.0    389\n",
       "1.0     24\n",
       "0.2      3\n",
       "0.8      2\n",
       "Name: Ascites, dtype: int64"
      ]
     },
     "execution_count": 24,
     "metadata": {},
     "output_type": "execute_result"
    }
   ],
   "source": [
    "df_Cirrhosis['Ascites'].value_counts()"
   ]
  },
  {
   "cell_type": "code",
   "execution_count": 25,
   "id": "ed602bb3",
   "metadata": {},
   "outputs": [
    {
     "data": {
      "text/plain": [
       "1.0    195\n",
       "0.0    188\n",
       "0.8     10\n",
       "0.6     10\n",
       "0.2      8\n",
       "0.4      7\n",
       "Name: Hepatomegaly, dtype: int64"
      ]
     },
     "execution_count": 25,
     "metadata": {},
     "output_type": "execute_result"
    }
   ],
   "source": [
    "df_Cirrhosis['Hepatomegaly'].value_counts()"
   ]
  },
  {
   "cell_type": "code",
   "execution_count": 27,
   "id": "5e359e82",
   "metadata": {},
   "outputs": [
    {
     "data": {
      "text/plain": [
       "0.0    354\n",
       "1.0     44\n",
       "2.0     20\n",
       "Name: Edema, dtype: int64"
      ]
     },
     "execution_count": 27,
     "metadata": {},
     "output_type": "execute_result"
    }
   ],
   "source": [
    "df_Cirrhosis['Edema'].value_counts()"
   ]
  },
  {
   "cell_type": "code",
   "execution_count": 28,
   "id": "45de518f",
   "metadata": {},
   "outputs": [],
   "source": [
    "dummies_Ascites = pd.get_dummies(df_Cirrhosis['Ascites'], prefix='Ascites')"
   ]
  },
  {
   "cell_type": "code",
   "execution_count": 29,
   "id": "3ca397e0",
   "metadata": {},
   "outputs": [
    {
     "data": {
      "text/html": [
       "<div>\n",
       "<style scoped>\n",
       "    .dataframe tbody tr th:only-of-type {\n",
       "        vertical-align: middle;\n",
       "    }\n",
       "\n",
       "    .dataframe tbody tr th {\n",
       "        vertical-align: top;\n",
       "    }\n",
       "\n",
       "    .dataframe thead th {\n",
       "        text-align: right;\n",
       "    }\n",
       "</style>\n",
       "<table border=\"1\" class=\"dataframe\">\n",
       "  <thead>\n",
       "    <tr style=\"text-align: right;\">\n",
       "      <th></th>\n",
       "      <th>Ascites_0.0</th>\n",
       "      <th>Ascites_0.2</th>\n",
       "      <th>Ascites_0.8</th>\n",
       "      <th>Ascites_1.0</th>\n",
       "    </tr>\n",
       "  </thead>\n",
       "  <tbody>\n",
       "    <tr>\n",
       "      <th>0</th>\n",
       "      <td>0</td>\n",
       "      <td>0</td>\n",
       "      <td>0</td>\n",
       "      <td>1</td>\n",
       "    </tr>\n",
       "    <tr>\n",
       "      <th>1</th>\n",
       "      <td>1</td>\n",
       "      <td>0</td>\n",
       "      <td>0</td>\n",
       "      <td>0</td>\n",
       "    </tr>\n",
       "    <tr>\n",
       "      <th>2</th>\n",
       "      <td>1</td>\n",
       "      <td>0</td>\n",
       "      <td>0</td>\n",
       "      <td>0</td>\n",
       "    </tr>\n",
       "    <tr>\n",
       "      <th>3</th>\n",
       "      <td>1</td>\n",
       "      <td>0</td>\n",
       "      <td>0</td>\n",
       "      <td>0</td>\n",
       "    </tr>\n",
       "  </tbody>\n",
       "</table>\n",
       "</div>"
      ],
      "text/plain": [
       "   Ascites_0.0  Ascites_0.2  Ascites_0.8  Ascites_1.0\n",
       "0            0            0            0            1\n",
       "1            1            0            0            0\n",
       "2            1            0            0            0\n",
       "3            1            0            0            0"
      ]
     },
     "execution_count": 29,
     "metadata": {},
     "output_type": "execute_result"
    }
   ],
   "source": [
    "dummies_Ascites.head(4)"
   ]
  },
  {
   "cell_type": "code",
   "execution_count": 30,
   "id": "e55e7668",
   "metadata": {},
   "outputs": [],
   "source": [
    "dummies_Ascites = dummies_Ascites[[\"Ascites_0.0\",\"Ascites_1.0\"]]"
   ]
  },
  {
   "cell_type": "code",
   "execution_count": 31,
   "id": "5d12bc0d",
   "metadata": {},
   "outputs": [
    {
     "data": {
      "text/html": [
       "<div>\n",
       "<style scoped>\n",
       "    .dataframe tbody tr th:only-of-type {\n",
       "        vertical-align: middle;\n",
       "    }\n",
       "\n",
       "    .dataframe tbody tr th {\n",
       "        vertical-align: top;\n",
       "    }\n",
       "\n",
       "    .dataframe thead th {\n",
       "        text-align: right;\n",
       "    }\n",
       "</style>\n",
       "<table border=\"1\" class=\"dataframe\">\n",
       "  <thead>\n",
       "    <tr style=\"text-align: right;\">\n",
       "      <th></th>\n",
       "      <th>ID</th>\n",
       "      <th>N_Days</th>\n",
       "      <th>Status</th>\n",
       "      <th>Drug</th>\n",
       "      <th>Age</th>\n",
       "      <th>Sex</th>\n",
       "      <th>Ascites</th>\n",
       "      <th>Hepatomegaly</th>\n",
       "      <th>Spiders</th>\n",
       "      <th>Edema</th>\n",
       "      <th>...</th>\n",
       "      <th>Albumin</th>\n",
       "      <th>Copper</th>\n",
       "      <th>Alk_Phos</th>\n",
       "      <th>SGOT</th>\n",
       "      <th>Tryglicerides</th>\n",
       "      <th>Platelets</th>\n",
       "      <th>Prothrombin</th>\n",
       "      <th>Stage</th>\n",
       "      <th>Ascites_0.0</th>\n",
       "      <th>Ascites_1.0</th>\n",
       "    </tr>\n",
       "  </thead>\n",
       "  <tbody>\n",
       "    <tr>\n",
       "      <th>0</th>\n",
       "      <td>1.0</td>\n",
       "      <td>400.0</td>\n",
       "      <td>1.0</td>\n",
       "      <td>0.0</td>\n",
       "      <td>21464.0</td>\n",
       "      <td>0.0</td>\n",
       "      <td>1.0</td>\n",
       "      <td>1.0</td>\n",
       "      <td>1.0</td>\n",
       "      <td>2.0</td>\n",
       "      <td>...</td>\n",
       "      <td>2.60</td>\n",
       "      <td>156.0</td>\n",
       "      <td>1718.0</td>\n",
       "      <td>137.95</td>\n",
       "      <td>172.0</td>\n",
       "      <td>190.0</td>\n",
       "      <td>12.2</td>\n",
       "      <td>4.0</td>\n",
       "      <td>0</td>\n",
       "      <td>1</td>\n",
       "    </tr>\n",
       "    <tr>\n",
       "      <th>1</th>\n",
       "      <td>2.0</td>\n",
       "      <td>4500.0</td>\n",
       "      <td>0.0</td>\n",
       "      <td>0.0</td>\n",
       "      <td>20617.0</td>\n",
       "      <td>0.0</td>\n",
       "      <td>0.0</td>\n",
       "      <td>1.0</td>\n",
       "      <td>1.0</td>\n",
       "      <td>0.0</td>\n",
       "      <td>...</td>\n",
       "      <td>4.14</td>\n",
       "      <td>54.0</td>\n",
       "      <td>7394.8</td>\n",
       "      <td>113.52</td>\n",
       "      <td>88.0</td>\n",
       "      <td>221.0</td>\n",
       "      <td>10.6</td>\n",
       "      <td>3.0</td>\n",
       "      <td>1</td>\n",
       "      <td>0</td>\n",
       "    </tr>\n",
       "    <tr>\n",
       "      <th>2</th>\n",
       "      <td>3.0</td>\n",
       "      <td>1012.0</td>\n",
       "      <td>1.0</td>\n",
       "      <td>0.0</td>\n",
       "      <td>25594.0</td>\n",
       "      <td>1.0</td>\n",
       "      <td>0.0</td>\n",
       "      <td>0.0</td>\n",
       "      <td>0.0</td>\n",
       "      <td>1.0</td>\n",
       "      <td>...</td>\n",
       "      <td>3.48</td>\n",
       "      <td>210.0</td>\n",
       "      <td>516.0</td>\n",
       "      <td>96.10</td>\n",
       "      <td>55.0</td>\n",
       "      <td>151.0</td>\n",
       "      <td>12.0</td>\n",
       "      <td>4.0</td>\n",
       "      <td>1</td>\n",
       "      <td>0</td>\n",
       "    </tr>\n",
       "    <tr>\n",
       "      <th>3</th>\n",
       "      <td>4.0</td>\n",
       "      <td>1925.0</td>\n",
       "      <td>1.0</td>\n",
       "      <td>0.0</td>\n",
       "      <td>19994.0</td>\n",
       "      <td>0.0</td>\n",
       "      <td>0.0</td>\n",
       "      <td>1.0</td>\n",
       "      <td>1.0</td>\n",
       "      <td>1.0</td>\n",
       "      <td>...</td>\n",
       "      <td>2.54</td>\n",
       "      <td>64.0</td>\n",
       "      <td>6121.8</td>\n",
       "      <td>60.63</td>\n",
       "      <td>92.0</td>\n",
       "      <td>183.0</td>\n",
       "      <td>10.3</td>\n",
       "      <td>4.0</td>\n",
       "      <td>1</td>\n",
       "      <td>0</td>\n",
       "    </tr>\n",
       "    <tr>\n",
       "      <th>4</th>\n",
       "      <td>5.0</td>\n",
       "      <td>1504.0</td>\n",
       "      <td>0.0</td>\n",
       "      <td>1.0</td>\n",
       "      <td>13918.0</td>\n",
       "      <td>0.0</td>\n",
       "      <td>0.0</td>\n",
       "      <td>1.0</td>\n",
       "      <td>1.0</td>\n",
       "      <td>0.0</td>\n",
       "      <td>...</td>\n",
       "      <td>3.53</td>\n",
       "      <td>143.0</td>\n",
       "      <td>671.0</td>\n",
       "      <td>113.15</td>\n",
       "      <td>72.0</td>\n",
       "      <td>136.0</td>\n",
       "      <td>10.9</td>\n",
       "      <td>3.0</td>\n",
       "      <td>1</td>\n",
       "      <td>0</td>\n",
       "    </tr>\n",
       "  </tbody>\n",
       "</table>\n",
       "<p>5 rows × 22 columns</p>\n",
       "</div>"
      ],
      "text/plain": [
       "    ID  N_Days  Status  Drug      Age  Sex  Ascites  Hepatomegaly  Spiders  \\\n",
       "0  1.0   400.0     1.0   0.0  21464.0  0.0      1.0           1.0      1.0   \n",
       "1  2.0  4500.0     0.0   0.0  20617.0  0.0      0.0           1.0      1.0   \n",
       "2  3.0  1012.0     1.0   0.0  25594.0  1.0      0.0           0.0      0.0   \n",
       "3  4.0  1925.0     1.0   0.0  19994.0  0.0      0.0           1.0      1.0   \n",
       "4  5.0  1504.0     0.0   1.0  13918.0  0.0      0.0           1.0      1.0   \n",
       "\n",
       "   Edema  ...  Albumin  Copper  Alk_Phos    SGOT  Tryglicerides  Platelets  \\\n",
       "0    2.0  ...     2.60   156.0    1718.0  137.95          172.0      190.0   \n",
       "1    0.0  ...     4.14    54.0    7394.8  113.52           88.0      221.0   \n",
       "2    1.0  ...     3.48   210.0     516.0   96.10           55.0      151.0   \n",
       "3    1.0  ...     2.54    64.0    6121.8   60.63           92.0      183.0   \n",
       "4    0.0  ...     3.53   143.0     671.0  113.15           72.0      136.0   \n",
       "\n",
       "   Prothrombin  Stage  Ascites_0.0  Ascites_1.0  \n",
       "0         12.2    4.0            0            1  \n",
       "1         10.6    3.0            1            0  \n",
       "2         12.0    4.0            1            0  \n",
       "3         10.3    4.0            1            0  \n",
       "4         10.9    3.0            1            0  \n",
       "\n",
       "[5 rows x 22 columns]"
      ]
     },
     "execution_count": 31,
     "metadata": {},
     "output_type": "execute_result"
    }
   ],
   "source": [
    "df_Ascites = pd.concat([df_Cirrhosis,dummies_Ascites],axis=1)\n",
    "df_Ascites.head()"
   ]
  },
  {
   "cell_type": "code",
   "execution_count": 32,
   "id": "24a8e220",
   "metadata": {},
   "outputs": [],
   "source": [
    "df_Ascites.drop(columns=['Bilirubin','Cholesterol', 'Albumin', 'Copper', 'Alk_Phos', 'SGOT', 'Tryglicerides'], inplace=True)"
   ]
  },
  {
   "cell_type": "code",
   "execution_count": 33,
   "id": "52d79bf6",
   "metadata": {},
   "outputs": [
    {
     "name": "stdout",
     "output_type": "stream",
     "text": [
      "Index(['ID', 'N_Days', 'Status', 'Drug', 'Age', 'Sex', 'Ascites',\n",
      "       'Hepatomegaly', 'Spiders', 'Edema', 'Platelets', 'Prothrombin', 'Stage',\n",
      "       'Ascites_0.0', 'Ascites_1.0'],\n",
      "      dtype='object')\n"
     ]
    }
   ],
   "source": [
    "print(df_Ascites.columns)\n"
   ]
  },
  {
   "cell_type": "code",
   "execution_count": 34,
   "id": "1db932af",
   "metadata": {},
   "outputs": [
    {
     "data": {
      "text/html": [
       "<div>\n",
       "<style scoped>\n",
       "    .dataframe tbody tr th:only-of-type {\n",
       "        vertical-align: middle;\n",
       "    }\n",
       "\n",
       "    .dataframe tbody tr th {\n",
       "        vertical-align: top;\n",
       "    }\n",
       "\n",
       "    .dataframe thead th {\n",
       "        text-align: right;\n",
       "    }\n",
       "</style>\n",
       "<table border=\"1\" class=\"dataframe\">\n",
       "  <tbody>\n",
       "    <tr>\n",
       "      <th>model</th>\n",
       "      <td>lifelines.CoxPHFitter</td>\n",
       "    </tr>\n",
       "    <tr>\n",
       "      <th>duration col</th>\n",
       "      <td>'N_Days'</td>\n",
       "    </tr>\n",
       "    <tr>\n",
       "      <th>event col</th>\n",
       "      <td>'Status'</td>\n",
       "    </tr>\n",
       "    <tr>\n",
       "      <th>baseline estimation</th>\n",
       "      <td>breslow</td>\n",
       "    </tr>\n",
       "    <tr>\n",
       "      <th>number of observations</th>\n",
       "      <td>418</td>\n",
       "    </tr>\n",
       "    <tr>\n",
       "      <th>number of events observed</th>\n",
       "      <td>161</td>\n",
       "    </tr>\n",
       "    <tr>\n",
       "      <th>partial log-likelihood</th>\n",
       "      <td>-792.74</td>\n",
       "    </tr>\n",
       "    <tr>\n",
       "      <th>time fit was run</th>\n",
       "      <td>2024-04-20 15:55:53 UTC</td>\n",
       "    </tr>\n",
       "  </tbody>\n",
       "</table>\n",
       "</div><table border=\"1\" class=\"dataframe\">\n",
       "  <thead>\n",
       "    <tr style=\"text-align: right;\">\n",
       "      <th style=\"min-width: 12px;\"></th>\n",
       "      <th style=\"min-width: 12px;\">coef</th>\n",
       "      <th style=\"min-width: 12px;\">exp(coef)</th>\n",
       "      <th style=\"min-width: 12px;\">se(coef)</th>\n",
       "      <th style=\"min-width: 12px;\">coef lower 95%</th>\n",
       "      <th style=\"min-width: 12px;\">coef upper 95%</th>\n",
       "      <th style=\"min-width: 12px;\">exp(coef) lower 95%</th>\n",
       "      <th style=\"min-width: 12px;\">exp(coef) upper 95%</th>\n",
       "      <th style=\"min-width: 12px;\">cmp to</th>\n",
       "      <th style=\"min-width: 12px;\">z</th>\n",
       "      <th style=\"min-width: 12px;\">p</th>\n",
       "      <th style=\"min-width: 12px;\">-log2(p)</th>\n",
       "    </tr>\n",
       "  </thead>\n",
       "  <tbody>\n",
       "    <tr>\n",
       "      <th>ID</th>\n",
       "      <td>-0.00</td>\n",
       "      <td>1.00</td>\n",
       "      <td>0.00</td>\n",
       "      <td>-0.00</td>\n",
       "      <td>0.00</td>\n",
       "      <td>1.00</td>\n",
       "      <td>1.00</td>\n",
       "      <td>0.00</td>\n",
       "      <td>-0.08</td>\n",
       "      <td>0.94</td>\n",
       "      <td>0.09</td>\n",
       "    </tr>\n",
       "    <tr>\n",
       "      <th>Drug</th>\n",
       "      <td>0.12</td>\n",
       "      <td>1.12</td>\n",
       "      <td>0.18</td>\n",
       "      <td>-0.24</td>\n",
       "      <td>0.47</td>\n",
       "      <td>0.79</td>\n",
       "      <td>1.61</td>\n",
       "      <td>0.00</td>\n",
       "      <td>0.64</td>\n",
       "      <td>0.52</td>\n",
       "      <td>0.93</td>\n",
       "    </tr>\n",
       "    <tr>\n",
       "      <th>Age</th>\n",
       "      <td>0.00</td>\n",
       "      <td>1.00</td>\n",
       "      <td>0.00</td>\n",
       "      <td>0.00</td>\n",
       "      <td>0.00</td>\n",
       "      <td>1.00</td>\n",
       "      <td>1.00</td>\n",
       "      <td>0.00</td>\n",
       "      <td>3.39</td>\n",
       "      <td>&lt;0.005</td>\n",
       "      <td>10.48</td>\n",
       "    </tr>\n",
       "    <tr>\n",
       "      <th>Sex</th>\n",
       "      <td>0.16</td>\n",
       "      <td>1.17</td>\n",
       "      <td>0.24</td>\n",
       "      <td>-0.32</td>\n",
       "      <td>0.63</td>\n",
       "      <td>0.73</td>\n",
       "      <td>1.88</td>\n",
       "      <td>0.00</td>\n",
       "      <td>0.65</td>\n",
       "      <td>0.51</td>\n",
       "      <td>0.96</td>\n",
       "    </tr>\n",
       "    <tr>\n",
       "      <th>Ascites</th>\n",
       "      <td>-1.38</td>\n",
       "      <td>0.25</td>\n",
       "      <td>2.06</td>\n",
       "      <td>-5.42</td>\n",
       "      <td>2.66</td>\n",
       "      <td>0.00</td>\n",
       "      <td>14.25</td>\n",
       "      <td>0.00</td>\n",
       "      <td>-0.67</td>\n",
       "      <td>0.50</td>\n",
       "      <td>0.99</td>\n",
       "    </tr>\n",
       "    <tr>\n",
       "      <th>Hepatomegaly</th>\n",
       "      <td>0.65</td>\n",
       "      <td>1.91</td>\n",
       "      <td>0.22</td>\n",
       "      <td>0.21</td>\n",
       "      <td>1.08</td>\n",
       "      <td>1.24</td>\n",
       "      <td>2.94</td>\n",
       "      <td>0.00</td>\n",
       "      <td>2.92</td>\n",
       "      <td>&lt;0.005</td>\n",
       "      <td>8.17</td>\n",
       "    </tr>\n",
       "    <tr>\n",
       "      <th>Spiders</th>\n",
       "      <td>0.54</td>\n",
       "      <td>1.71</td>\n",
       "      <td>0.19</td>\n",
       "      <td>0.17</td>\n",
       "      <td>0.91</td>\n",
       "      <td>1.18</td>\n",
       "      <td>2.48</td>\n",
       "      <td>0.00</td>\n",
       "      <td>2.83</td>\n",
       "      <td>&lt;0.005</td>\n",
       "      <td>7.75</td>\n",
       "    </tr>\n",
       "    <tr>\n",
       "      <th>Edema</th>\n",
       "      <td>0.52</td>\n",
       "      <td>1.68</td>\n",
       "      <td>0.14</td>\n",
       "      <td>0.24</td>\n",
       "      <td>0.79</td>\n",
       "      <td>1.27</td>\n",
       "      <td>2.21</td>\n",
       "      <td>0.00</td>\n",
       "      <td>3.69</td>\n",
       "      <td>&lt;0.005</td>\n",
       "      <td>12.11</td>\n",
       "    </tr>\n",
       "    <tr>\n",
       "      <th>Platelets</th>\n",
       "      <td>0.00</td>\n",
       "      <td>1.00</td>\n",
       "      <td>0.00</td>\n",
       "      <td>-0.00</td>\n",
       "      <td>0.00</td>\n",
       "      <td>1.00</td>\n",
       "      <td>1.00</td>\n",
       "      <td>0.00</td>\n",
       "      <td>0.56</td>\n",
       "      <td>0.58</td>\n",
       "      <td>0.80</td>\n",
       "    </tr>\n",
       "    <tr>\n",
       "      <th>Prothrombin</th>\n",
       "      <td>0.24</td>\n",
       "      <td>1.27</td>\n",
       "      <td>0.07</td>\n",
       "      <td>0.10</td>\n",
       "      <td>0.37</td>\n",
       "      <td>1.11</td>\n",
       "      <td>1.45</td>\n",
       "      <td>0.00</td>\n",
       "      <td>3.49</td>\n",
       "      <td>&lt;0.005</td>\n",
       "      <td>11.00</td>\n",
       "    </tr>\n",
       "    <tr>\n",
       "      <th>Stage</th>\n",
       "      <td>0.27</td>\n",
       "      <td>1.30</td>\n",
       "      <td>0.12</td>\n",
       "      <td>0.02</td>\n",
       "      <td>0.51</td>\n",
       "      <td>1.02</td>\n",
       "      <td>1.66</td>\n",
       "      <td>0.00</td>\n",
       "      <td>2.13</td>\n",
       "      <td>0.03</td>\n",
       "      <td>4.93</td>\n",
       "    </tr>\n",
       "    <tr>\n",
       "      <th>Ascites_0.0</th>\n",
       "      <td>-1.33</td>\n",
       "      <td>0.26</td>\n",
       "      <td>1.03</td>\n",
       "      <td>-3.34</td>\n",
       "      <td>0.68</td>\n",
       "      <td>0.04</td>\n",
       "      <td>1.97</td>\n",
       "      <td>0.00</td>\n",
       "      <td>-1.30</td>\n",
       "      <td>0.19</td>\n",
       "      <td>2.36</td>\n",
       "    </tr>\n",
       "    <tr>\n",
       "      <th>Ascites_1.0</th>\n",
       "      <td>0.95</td>\n",
       "      <td>2.59</td>\n",
       "      <td>1.40</td>\n",
       "      <td>-1.79</td>\n",
       "      <td>3.70</td>\n",
       "      <td>0.17</td>\n",
       "      <td>40.38</td>\n",
       "      <td>0.00</td>\n",
       "      <td>0.68</td>\n",
       "      <td>0.50</td>\n",
       "      <td>1.01</td>\n",
       "    </tr>\n",
       "  </tbody>\n",
       "</table><br><div>\n",
       "<style scoped>\n",
       "    .dataframe tbody tr th:only-of-type {\n",
       "        vertical-align: middle;\n",
       "    }\n",
       "\n",
       "    .dataframe tbody tr th {\n",
       "        vertical-align: top;\n",
       "    }\n",
       "\n",
       "    .dataframe thead th {\n",
       "        text-align: right;\n",
       "    }\n",
       "</style>\n",
       "<table border=\"1\" class=\"dataframe\">\n",
       "  <tbody>\n",
       "    <tr>\n",
       "      <th>Concordance</th>\n",
       "      <td>0.79</td>\n",
       "    </tr>\n",
       "    <tr>\n",
       "      <th>Partial AIC</th>\n",
       "      <td>1611.47</td>\n",
       "    </tr>\n",
       "    <tr>\n",
       "      <th>log-likelihood ratio test</th>\n",
       "      <td>161.47 on 13 df</td>\n",
       "    </tr>\n",
       "    <tr>\n",
       "      <th>-log2(p) of ll-ratio test</th>\n",
       "      <td>89.70</td>\n",
       "    </tr>\n",
       "  </tbody>\n",
       "</table>\n",
       "</div>"
      ],
      "text/latex": [
       "\\begin{tabular}{lrrrrrrrrrrr}\n",
       " & coef & exp(coef) & se(coef) & coef lower 95% & coef upper 95% & exp(coef) lower 95% & exp(coef) upper 95% & cmp to & z & p & -log2(p) \\\\\n",
       "covariate &  &  &  &  &  &  &  &  &  &  &  \\\\\n",
       "ID & -0.00 & 1.00 & 0.00 & -0.00 & 0.00 & 1.00 & 1.00 & 0.00 & -0.08 & 0.94 & 0.09 \\\\\n",
       "Drug & 0.12 & 1.12 & 0.18 & -0.24 & 0.47 & 0.79 & 1.61 & 0.00 & 0.64 & 0.52 & 0.93 \\\\\n",
       "Age & 0.00 & 1.00 & 0.00 & 0.00 & 0.00 & 1.00 & 1.00 & 0.00 & 3.39 & 0.00 & 10.48 \\\\\n",
       "Sex & 0.16 & 1.17 & 0.24 & -0.32 & 0.63 & 0.73 & 1.88 & 0.00 & 0.65 & 0.51 & 0.96 \\\\\n",
       "Ascites & -1.38 & 0.25 & 2.06 & -5.42 & 2.66 & 0.00 & 14.25 & 0.00 & -0.67 & 0.50 & 0.99 \\\\\n",
       "Hepatomegaly & 0.65 & 1.91 & 0.22 & 0.21 & 1.08 & 1.24 & 2.94 & 0.00 & 2.92 & 0.00 & 8.17 \\\\\n",
       "Spiders & 0.54 & 1.71 & 0.19 & 0.17 & 0.91 & 1.18 & 2.48 & 0.00 & 2.83 & 0.00 & 7.75 \\\\\n",
       "Edema & 0.52 & 1.68 & 0.14 & 0.24 & 0.79 & 1.27 & 2.21 & 0.00 & 3.69 & 0.00 & 12.11 \\\\\n",
       "Platelets & 0.00 & 1.00 & 0.00 & -0.00 & 0.00 & 1.00 & 1.00 & 0.00 & 0.56 & 0.58 & 0.80 \\\\\n",
       "Prothrombin & 0.24 & 1.27 & 0.07 & 0.10 & 0.37 & 1.11 & 1.45 & 0.00 & 3.49 & 0.00 & 11.00 \\\\\n",
       "Stage & 0.27 & 1.30 & 0.12 & 0.02 & 0.51 & 1.02 & 1.66 & 0.00 & 2.13 & 0.03 & 4.93 \\\\\n",
       "Ascites_0.0 & -1.33 & 0.26 & 1.03 & -3.34 & 0.68 & 0.04 & 1.97 & 0.00 & -1.30 & 0.19 & 2.36 \\\\\n",
       "Ascites_1.0 & 0.95 & 2.59 & 1.40 & -1.79 & 3.70 & 0.17 & 40.38 & 0.00 & 0.68 & 0.50 & 1.01 \\\\\n",
       "\\end{tabular}\n"
      ],
      "text/plain": [
       "<lifelines.CoxPHFitter: fitted with 418 total observations, 257 right-censored observations>\n",
       "             duration col = 'N_Days'\n",
       "                event col = 'Status'\n",
       "      baseline estimation = breslow\n",
       "   number of observations = 418\n",
       "number of events observed = 161\n",
       "   partial log-likelihood = -792.74\n",
       "         time fit was run = 2024-04-20 15:55:53 UTC\n",
       "\n",
       "---\n",
       "               coef  exp(coef)   se(coef)   coef lower 95%   coef upper 95%  exp(coef) lower 95%  exp(coef) upper 95%\n",
       "covariate                                                                                                            \n",
       "ID            -0.00       1.00       0.00            -0.00             0.00                 1.00                 1.00\n",
       "Drug           0.12       1.12       0.18            -0.24             0.47                 0.79                 1.61\n",
       "Age            0.00       1.00       0.00             0.00             0.00                 1.00                 1.00\n",
       "Sex            0.16       1.17       0.24            -0.32             0.63                 0.73                 1.88\n",
       "Ascites       -1.38       0.25       2.06            -5.42             2.66                 0.00                14.25\n",
       "Hepatomegaly   0.65       1.91       0.22             0.21             1.08                 1.24                 2.94\n",
       "Spiders        0.54       1.71       0.19             0.17             0.91                 1.18                 2.48\n",
       "Edema          0.52       1.68       0.14             0.24             0.79                 1.27                 2.21\n",
       "Platelets      0.00       1.00       0.00            -0.00             0.00                 1.00                 1.00\n",
       "Prothrombin    0.24       1.27       0.07             0.10             0.37                 1.11                 1.45\n",
       "Stage          0.27       1.30       0.12             0.02             0.51                 1.02                 1.66\n",
       "Ascites_0.0   -1.33       0.26       1.03            -3.34             0.68                 0.04                 1.97\n",
       "Ascites_1.0    0.95       2.59       1.40            -1.79             3.70                 0.17                40.38\n",
       "\n",
       "               cmp to     z      p   -log2(p)\n",
       "covariate                                    \n",
       "ID               0.00 -0.08   0.94       0.09\n",
       "Drug             0.00  0.64   0.52       0.93\n",
       "Age              0.00  3.39 <0.005      10.48\n",
       "Sex              0.00  0.65   0.51       0.96\n",
       "Ascites          0.00 -0.67   0.50       0.99\n",
       "Hepatomegaly     0.00  2.92 <0.005       8.17\n",
       "Spiders          0.00  2.83 <0.005       7.75\n",
       "Edema            0.00  3.69 <0.005      12.11\n",
       "Platelets        0.00  0.56   0.58       0.80\n",
       "Prothrombin      0.00  3.49 <0.005      11.00\n",
       "Stage            0.00  2.13   0.03       4.93\n",
       "Ascites_0.0      0.00 -1.30   0.19       2.36\n",
       "Ascites_1.0      0.00  0.68   0.50       1.01\n",
       "---\n",
       "Concordance = 0.79\n",
       "Partial AIC = 1611.47\n",
       "log-likelihood ratio test = 161.47 on 13 df\n",
       "-log2(p) of ll-ratio test = 89.70"
      ]
     },
     "metadata": {},
     "output_type": "display_data"
    }
   ],
   "source": [
    "cph = CoxPHFitter()\n",
    "cph.fit(df_Ascites, duration_col = 'N_Days', event_col = 'Status')\n",
    "\n",
    "cph.print_summary()"
   ]
  },
  {
   "cell_type": "markdown",
   "id": "ad8e54f9",
   "metadata": {},
   "source": [
    "Interpretation"
   ]
  },
  {
   "cell_type": "code",
   "execution_count": 35,
   "id": "4283df64",
   "metadata": {},
   "outputs": [
    {
     "data": {
      "text/plain": [
       "<AxesSubplot:xlabel='log(HR) (95% CI)'>"
      ]
     },
     "execution_count": 35,
     "metadata": {},
     "output_type": "execute_result"
    },
    {
     "data": {
      "image/png": "[encoded data removed]",
      "text/plain": [
       "<Figure size 720x432 with 1 Axes>"
      ]
     },
     "metadata": {
      "needs_background": "light"
     },
     "output_type": "display_data"
    }
   ],
   "source": [
    "plt.subplots(figsize=(10,6))\n",
    "cph.plot()"
   ]
  },
  {
   "cell_type": "code",
   "execution_count": 36,
   "id": "13344729",
   "metadata": {},
   "outputs": [
    {
     "data": {
      "text/plain": [
       "Text(0.5, 1.0, 'Ascites plot')"
      ]
     },
     "execution_count": 36,
     "metadata": {},
     "output_type": "execute_result"
    },
    {
     "data": {
      "image/png": "[encoded data removed]",
      "text/plain": [
       "<Figure size 432x288 with 1 Axes>"
      ]
     },
     "metadata": {
      "needs_background": "light"
     },
     "output_type": "display_data"
    }
   ],
   "source": [
    "cph.plot_partial_effects_on_outcome(covariates='Ascites', values=[0.0, 1.0, 0.2, 0.8], cmap=\"coolwarm\")\n",
    "plt.title(\"Ascites plot\")"
   ]
  },
  {
   "cell_type": "code",
   "execution_count": 37,
   "id": "ab49c16a",
   "metadata": {},
   "outputs": [
    {
     "data": {
      "text/plain": [
       "Text(0.5, 1.0, 'Hepatomegaly plot')"
      ]
     },
     "execution_count": 37,
     "metadata": {},
     "output_type": "execute_result"
    },
    {
     "data": {
      "image/png": "[encoded data removed]",
      "text/plain": [
       "<Figure size 432x288 with 1 Axes>"
      ]
     },
     "metadata": {
      "needs_background": "light"
     },
     "output_type": "display_data"
    }
   ],
   "source": [
    "cph.plot_partial_effects_on_outcome(covariates='Hepatomegaly', values=[1.0, 0.8, 0.6, 0.4, 0.2, 0.0], cmap=\"coolwarm\")\n",
    "plt.title(\"Hepatomegaly plot\")"
   ]
  },
  {
   "cell_type": "code",
   "execution_count": null,
   "id": "158fa9e7",
   "metadata": {},
   "outputs": [],
   "source": []
  },
  {
   "cell_type": "code",
   "execution_count": null,
   "id": "34a8e6c5",
   "metadata": {},
   "outputs": [],
   "source": []
  }
 ],
 "metadata": {
  "kernelspec": {
   "display_name": "Python 3 (ipykernel)",
   "language": "python",
   "name": "python3"
  },
  "language_info": {
   "codemirror_mode": {
    "name": "ipython",
    "version": 3
   },
   "file_extension": ".py",
   "mimetype": "text/x-python",
   "name": "python",
   "nbconvert_exporter": "python",
   "pygments_lexer": "ipython3",
   "version": "3.9.12"
  }
 },
 "nbformat": 4,
 "nbformat_minor": 5
}
